{
 "cells": [
  {
   "cell_type": "code",
   "execution_count": 1,
   "id": "6465cbe2",
   "metadata": {},
   "outputs": [
    {
     "name": "stdout",
     "output_type": "stream",
     "text": [
      "      Nombre  Fat percentage  Hair Percentage   \\\n",
      "0      Frank            0.45              0.71   \n",
      "1       Bill            0.99              0.20   \n",
      "2      Osman            0.77              0.63   \n",
      "3     Jefrry            0.32              0.45   \n",
      "\n",
      "    School Performance Percentage    College Performance Percentage  \\\n",
      "0                             0.23                             0.60   \n",
      "1                             0.11                             0.41   \n",
      "2                             0.29                             0.95   \n",
      "3                             0.19                             0.66   \n",
      "\n",
      "    Sport Accurancy Percentage  \n",
      "0                         0.58  \n",
      "1                         0.32  \n",
      "2                         0.21  \n",
      "3                         0.76  \n"
     ]
    }
   ],
   "source": [
    "# Import needed to work with Excel\n",
    "import pandas as pd\n",
    "import numpy as np\n",
    "import math\n",
    "\n",
    "#se importa el módulo tkinter para crear la interfaz gráfica.\n",
    "\n",
    "from tkinter import *\n",
    "\n",
    "#Luego se crea una ventana con el tamaño 400x300 píxeles y \n",
    "#se carga un archivo CSV llamado sprint_2.csv en la variable data.# Create object for window and size\n",
    "\n",
    "root = Tk()\n",
    "root.geometry(\"300x100\")\n",
    "\n",
    "# Load csv - database\n",
    "data = pd.read_csv('sprint_2.csv')\n",
    "print(data)\n"
   ]
  },
  {
   "cell_type": "code",
   "execution_count": 2,
   "id": "88e233a7",
   "metadata": {},
   "outputs": [],
   "source": [
    "#\".iloc\" de un objeto de Pandas DataFrame se utiliza para indexar el marco de datos de manera basada en la posición entera.\n",
    "# Esta propiedad se utiliza para seleccionar datos en función de su ubicación numérica en el índice y en las columnas.\n",
    "\n",
    "def calculate():\n",
    "    if(clicked1.get() == \"Frank\"):\n",
    "        first = data.iloc[0]\n",
    "    elif(clicked1.get() == \"Bill\"):\n",
    "        first = data.iloc[1]\n",
    "    elif(clicked1.get() == \"Osman\"):\n",
    "        first = data.iloc[2]\n",
    "    elif(clicked1.get() == \"Jefrry\"):\n",
    "        first = data.iloc[3]\n",
    "        \n",
    "    if(clicked2.get() == \"Frank\"):\n",
    "        second = data.iloc[0]\n",
    "    elif(clicked2.get() == \"Bill\"):\n",
    "        second = data.iloc[1]\n",
    "    elif(clicked2.get() == \"Osman\"):\n",
    "        second = data.iloc[2]\n",
    "    elif(clicked2.get() == \"Jefrrya\"):\n",
    "        second = data.iloc[3]\n",
    "        \n",
    "    # Calculate similiarity\n",
    "    AB = (first.iloc[1] * second.iloc[1]) + (first.iloc[2] * second.iloc[2]) + (first.iloc[3] * second.iloc[3]) + (first.iloc[4] * second.iloc[4]) + (first.iloc[5] * second.iloc[5])\n",
    "    \n",
    "    vA = math.sqrt((first.iloc[1]**2) + (first.iloc[2]**2) + (first.iloc[3]**2) + (first.iloc[4]**2) + (first.iloc[5]**2))\n",
    "    vB = math.sqrt((second.iloc[1]**2) + (second.iloc[2]**2) + (second.iloc[3]**2) + (second.iloc[4]**2) + (second.iloc[5]**2))\n",
    "    \n",
    "    cos = AB/(vA*vB)\n",
    "    \n",
    "    coseno.config( text = cos )"
   ]
  },
  {
   "cell_type": "code",
   "execution_count": null,
   "id": "e8a4f825",
   "metadata": {},
   "outputs": [],
   "source": [
    "# Dropdown menu options\n",
    "options = [\n",
    "    \"Frank\",\n",
    "    \"Bill\",\n",
    "    \"Osman\",\n",
    "    \"Jefrry\",\n",
    "]\n",
    "    \n",
    "# datatype of menu text\n",
    "clicked1 = StringVar()\n",
    "clicked2 = StringVar()\n",
    "\n",
    "# initial menu text\n",
    "clicked1.set( \"Frank\" )\n",
    "clicked2.set( \"Frank\" )\n",
    "        \n",
    "# Create Dropdown menu\n",
    "drop1 = OptionMenu( root , clicked1 , *options )\n",
    "drop2 = OptionMenu( root , clicked2 , *options )\n",
    "drop1.pack()\n",
    "drop2.pack()\n",
    "\n",
    "# Create button, it will change label text\n",
    "button = Button( root , text = \"Enter\" , command = calculate ).pack()\n",
    "\n",
    "# Create Label\n",
    "label = Label(root, text = \"Coseno value is: \")\n",
    "label.pack()\n",
    "coseno = Label( root , text = \" \" )\n",
    "coseno.pack()\n",
    "\n",
    "root.mainloop()"
   ]
  },
  {
   "cell_type": "code",
   "execution_count": null,
   "id": "f121a280",
   "metadata": {},
   "outputs": [],
   "source": []
  }
 ],
 "metadata": {
  "kernelspec": {
   "display_name": "Python 3 (ipykernel)",
   "language": "python",
   "name": "python3"
  },
  "language_info": {
   "codemirror_mode": {
    "name": "ipython",
    "version": 3
   },
   "file_extension": ".py",
   "mimetype": "text/x-python",
   "name": "python",
   "nbconvert_exporter": "python",
   "pygments_lexer": "ipython3",
   "version": "3.9.13"
  }
 },
 "nbformat": 4,
 "nbformat_minor": 5
}
